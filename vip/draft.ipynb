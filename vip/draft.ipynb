{
 "cells": [
  {
   "cell_type": "code",
   "execution_count": 1,
   "metadata": {},
   "outputs": [],
   "source": [
    "import os\n",
    "import sys\n",
    "# fix imports\n",
    "# sys.path.append(os.path.dirname(os.getcwd()))\n",
    "os.chdir(os.path.dirname(os.getcwd()))\n",
    "\n",
    "from misc import dossier\n",
    "\n",
    "from datetime import datetime \n",
    "import pandas as pd"
   ]
  },
  {
   "cell_type": "code",
   "execution_count": 2,
   "metadata": {},
   "outputs": [],
   "source": [
    "# read custom data\n",
    "data = pd.read_parquet(\"data/demo/custom_wvs7_data.parquet\")"
   ]
  },
  {
   "cell_type": "code",
   "execution_count": 3,
   "metadata": {},
   "outputs": [],
   "source": [
    "# shuffle data\n",
    "sdata = data.sample(frac=1).reset_index(drop=True)"
   ]
  },
  {
   "cell_type": "code",
   "execution_count": 4,
   "metadata": {},
   "outputs": [],
   "source": [
    "# generate dump_dates\n",
    "date_range = list(pd.date_range(start=\"2024-01-01\", end=\"2024-12-31\", freq=\"MS\"))"
   ]
  },
  {
   "cell_type": "code",
   "execution_count": 5,
   "metadata": {},
   "outputs": [],
   "source": [
    "# write batches\n",
    "lower_bound = 0\n",
    "# define the slices (12 months)\n",
    "upper_bound = threshold = len(sdata) / 12\n",
    "\n",
    "for idx, vals in enumerate(date_range):\n",
    "    # assign dates by slices\n",
    "    sdata.loc[lower_bound:upper_bound, \"dump_date\"] = vals\n",
    "    # udpate index ranges\n",
    "    lower_bound += threshold\n",
    "    upper_bound += threshold or None"
   ]
  },
  {
   "cell_type": "code",
   "execution_count": 6,
   "metadata": {},
   "outputs": [],
   "source": [
    "# output batches\n",
    "for date in list(sdata.dump_date.unique()):\n",
    "    data_path = f\"./data/demo/batches/wvs7_{date.date()}.parquet\"\n",
    "    sdata[sdata.dump_date == date].drop(columns=\"dump_date\").to_parquet(data_path, index=False)"
   ]
  },
  {
   "cell_type": "code",
   "execution_count": null,
   "metadata": {},
   "outputs": [],
   "source": []
  }
 ],
 "metadata": {
  "kernelspec": {
   "display_name": "mlops",
   "language": "python",
   "name": "python3"
  },
  "language_info": {
   "codemirror_mode": {
    "name": "ipython",
    "version": 3
   },
   "file_extension": ".py",
   "mimetype": "text/x-python",
   "name": "python",
   "nbconvert_exporter": "python",
   "pygments_lexer": "ipython3",
   "version": "3.10.14"
  }
 },
 "nbformat": 4,
 "nbformat_minor": 2
}
