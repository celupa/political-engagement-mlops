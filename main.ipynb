{
 "cells": [
  {
   "cell_type": "code",
   "execution_count": 1,
   "metadata": {},
   "outputs": [],
   "source": [
    "import sys\n",
    "import os\n",
    "import pickle\n",
    "from datetime import datetime \n",
    "\n",
    "import pandas as pd\n",
    "from sklearn.model_selection import train_test_split \n",
    "from sklearn.feature_extraction import DictVectorizer \n",
    "from sklearn.metrics import log_loss\n",
    "import xgboost as xgb\n",
    "from hyperopt import fmin, hp, tpe, Trials\n",
    "from hyperopt.pyll import scope\n",
    "\n",
    "import mlflow\n",
    "\n",
    "from misc import init, supports"
   ]
  },
  {
   "cell_type": "code",
   "execution_count": 2,
   "metadata": {},
   "outputs": [],
   "source": [
    "# initialize configuration\n",
    "MODE = \"test\"\n",
    "CONFIG = init.init_config(MODE)"
   ]
  },
  {
   "cell_type": "code",
   "execution_count": 3,
   "metadata": {},
   "outputs": [],
   "source": [
    "# # launch mlflow\n",
    "# mlflow ui --backend-store-uri sqlite:///mlflow/mlflow.db --default-artifact-root mlflow\n",
    "mlflow.set_tracking_uri(\"sqlite:///mlflow/mlflow.db\")\n",
    "mlflow.set_experiment(\"political_engagement\")\n",
    "# enable auto-log\n",
    "mlflow.xgboost.autolog()"
   ]
  },
  {
   "cell_type": "code",
   "execution_count": 4,
   "metadata": {},
   "outputs": [],
   "source": [
    "# read data\n",
    "data = pd.read_parquet(\"data/custom_wvs7_data.parquet\")"
   ]
  },
  {
   "cell_type": "code",
   "execution_count": 5,
   "metadata": {},
   "outputs": [],
   "source": [
    "# setup training context\n",
    "# get datasets\n",
    "dftrain, dftest = train_test_split(data, test_size=0.2, random_state=99)\n",
    "\n",
    "# get targets\n",
    "ytrain = dftrain[\"political_engagement\"].values\n",
    "ytest = dftest[\"political_engagement\"].values\n",
    "dftrain.drop(columns=[\"political_engagement\"], inplace=True)\n",
    "dftest.drop(columns=[\"political_engagement\"], inplace=True)\n",
    "\n",
    "# vectorize\n",
    "dv = DictVectorizer(sparse=False)\n",
    "train_dict = dftrain.to_dict(orient=\"records\")\n",
    "test_dict = dftest.to_dict(orient=\"records\")\n",
    "xtrain = dv.fit_transform(train_dict)\n",
    "xtest = dv.transform(test_dict)\n",
    "feature_names = dv.get_feature_names_out().tolist()\n",
    "\n",
    "# get dmatrix\n",
    "xtrain = xgb.DMatrix(xtrain, label=ytrain, feature_names=feature_names)\n",
    "xtest = xgb.DMatrix(xtest, label=ytest, feature_names=feature_names)"
   ]
  },
  {
   "cell_type": "code",
   "execution_count": 6,
   "metadata": {},
   "outputs": [
    {
     "name": "stdout",
     "output_type": "stream",
     "text": [
      "[0]\ttest-logloss:2.22936                             \n",
      "[1]\ttest-logloss:12.54354                            \n",
      "[2]\ttest-logloss:16.23009                            \n",
      "[3]\ttest-logloss:18.25861                            \n",
      "[4]\ttest-logloss:22.34129                            \n",
      "[5]\ttest-logloss:22.34129                            \n",
      "[6]\ttest-logloss:22.34129                            \n",
      "[7]\ttest-logloss:22.34129                            \n",
      "[8]\ttest-logloss:22.34129                            \n",
      "[9]\ttest-logloss:22.34129                            \n",
      "  0%|          | 0/2 [00:00<?, ?trial/s, best loss=?]"
     ]
    },
    {
     "name": "stderr",
     "output_type": "stream",
     "text": [
      "2024/09/13 10:50:00 WARNING mlflow.xgboost: Failed to infer model signature: training data did not have the following fields: birth_country=0, birth_country=1, birth_country_father=0, birth_country_father=1, birth_country_mother=0, birth_country_mother=1, chief_earner=1, chief_earner=2, children_number, citizenship=1, citizenship=2, country=104, country=124, country=152, country=156, country=158, country=170, country=196, country=20, country=203, country=218, country=231, country=276, country=300, country=32, country=320, country=344, country=36, country=360, country=364, country=368, country=392, country=398, country=400, country=404, country=410, country=417, country=422, country=434, country=446, country=458, country=462, country=484, country=496, country=50, country=504, country=51, country=528, country=554, country=558, country=566, country=586, country=604, country=608, country=630, country=642, country=643, country=68, country=688, country=702, country=703, country=704, country=716, country=76, country=762, country=764, country=788, country=792, country=804, country=818, country=826, country=840, country=858, country=862, country=909, education, education_mother, education_spouse, employment=1, employment=2, employment=3, employment=4, employment=5, employment=6, employment=7, employment_sector=0, employment_sector=1, employment_sector=2, employment_sector=3, employment_spouse=0, employment_spouse=1, employment_spouse=2, employment_spouse=3, employment_spouse=4, employment_spouse=5, employment_spouse=6, employment_spouse=7, employment_spouse=8, generation, household_size, immigrant=1, immigrant=2, immigrant_father=1, immigrant_father=2, immigrant_mother=1, immigrant_mother=2, income_scale, intprivacy=1, intprivacy=2, lives_with_parents=1, lives_with_parents=2, lives_with_parents=3, lives_with_parents=4, marital_status=1, marital_status=2, marital_status=3, marital_status=4, marital_status=5, marital_status=6, mode=1, mode=2, mode=3, mode=4, mode=5, mode=6, profession=1, profession=10, profession=11, profession=12, profession=2, profession=3, profession=4, profession=5, profession=6, profession=7, profession=8, profession=9, profession_father=1, profession_father=10, profession_father=11, profession_father=12, profession_father=2, profession_father=3, profession_father=4, profession_father=5, profession_father=6, profession_father=7, profession_father=8, profession_father=9, profession_spouse=0, profession_spouse=1, profession_spouse=10, profession_spouse=11, profession_spouse=12, profession_spouse=2, profession_spouse=3, profession_spouse=4, profession_spouse=5, profession_spouse=6, profession_spouse=7, profession_spouse=8, profession_spouse=9, religion=1, religion=10, religion=2, religion=3, religion=4, religion=5, religion=6, religion=7, religion=8, religion=9, respint, savings=1, savings=2, savings=3, savings=4, settlement=1, settlement=2, settlement=3, settlement=4, settlement=5, sex=1, sex=2, subjective_social_class\n",
      "\n",
      "2024/09/13 10:50:00 WARNING mlflow.utils.autologging_utils: MLflow autologging encountered a warning: \"/home/adi/miniconda3/envs/mlops/lib/python3.10/site-packages/xgboost/core.py:160: UserWarning: [10:50:00] WARNING: /workspace/src/c_api/c_api.cc:1240: Saving into deprecated binary model format, please consider using `json` or `ubj`. Model format will default to JSON in XGBoost 2.2 if not specified.\"\n",
      "\n"
     ]
    },
    {
     "name": "stdout",
     "output_type": "stream",
     "text": [
      "[0]\ttest-logloss:1.41819                                                      \n",
      "[1]\ttest-logloss:1.42121                                                      \n",
      "[2]\ttest-logloss:1.42426                                                      \n",
      "[3]\ttest-logloss:1.42731                                                      \n",
      "[4]\ttest-logloss:1.43037                                                      \n",
      "[5]\ttest-logloss:1.43344                                                      \n",
      "[6]\ttest-logloss:1.43648                                                      \n",
      "[7]\ttest-logloss:1.43957                                                      \n",
      "[8]\ttest-logloss:1.44263                                                      \n",
      "[9]\ttest-logloss:1.44573                                                      \n",
      " 50%|█████     | 1/2 [00:02<00:02,  2.37s/trial, best loss: 9.673245722625499]"
     ]
    },
    {
     "name": "stderr",
     "output_type": "stream",
     "text": [
      "2024/09/13 10:50:02 WARNING mlflow.xgboost: Failed to infer model signature: training data did not have the following fields: birth_country=0, birth_country=1, birth_country_father=0, birth_country_father=1, birth_country_mother=0, birth_country_mother=1, chief_earner=1, chief_earner=2, children_number, citizenship=1, citizenship=2, country=104, country=124, country=152, country=156, country=158, country=170, country=196, country=20, country=203, country=218, country=231, country=276, country=300, country=32, country=320, country=344, country=36, country=360, country=364, country=368, country=392, country=398, country=400, country=404, country=410, country=417, country=422, country=434, country=446, country=458, country=462, country=484, country=496, country=50, country=504, country=51, country=528, country=554, country=558, country=566, country=586, country=604, country=608, country=630, country=642, country=643, country=68, country=688, country=702, country=703, country=704, country=716, country=76, country=762, country=764, country=788, country=792, country=804, country=818, country=826, country=840, country=858, country=862, country=909, education, education_mother, education_spouse, employment=1, employment=2, employment=3, employment=4, employment=5, employment=6, employment=7, employment_sector=0, employment_sector=1, employment_sector=2, employment_sector=3, employment_spouse=0, employment_spouse=1, employment_spouse=2, employment_spouse=3, employment_spouse=4, employment_spouse=5, employment_spouse=6, employment_spouse=7, employment_spouse=8, generation, household_size, immigrant=1, immigrant=2, immigrant_father=1, immigrant_father=2, immigrant_mother=1, immigrant_mother=2, income_scale, intprivacy=1, intprivacy=2, lives_with_parents=1, lives_with_parents=2, lives_with_parents=3, lives_with_parents=4, marital_status=1, marital_status=2, marital_status=3, marital_status=4, marital_status=5, marital_status=6, mode=1, mode=2, mode=3, mode=4, mode=5, mode=6, profession=1, profession=10, profession=11, profession=12, profession=2, profession=3, profession=4, profession=5, profession=6, profession=7, profession=8, profession=9, profession_father=1, profession_father=10, profession_father=11, profession_father=12, profession_father=2, profession_father=3, profession_father=4, profession_father=5, profession_father=6, profession_father=7, profession_father=8, profession_father=9, profession_spouse=0, profession_spouse=1, profession_spouse=10, profession_spouse=11, profession_spouse=12, profession_spouse=2, profession_spouse=3, profession_spouse=4, profession_spouse=5, profession_spouse=6, profession_spouse=7, profession_spouse=8, profession_spouse=9, religion=1, religion=10, religion=2, religion=3, religion=4, religion=5, religion=6, religion=7, religion=8, religion=9, respint, savings=1, savings=2, savings=3, savings=4, settlement=1, settlement=2, settlement=3, settlement=4, settlement=5, sex=1, sex=2, subjective_social_class\n",
      "\n",
      "2024/09/13 10:50:02 WARNING mlflow.utils.autologging_utils: MLflow autologging encountered a warning: \"/home/adi/miniconda3/envs/mlops/lib/python3.10/site-packages/xgboost/core.py:160: UserWarning: [10:50:02] WARNING: /workspace/src/c_api/c_api.cc:1240: Saving into deprecated binary model format, please consider using `json` or `ubj`. Model format will default to JSON in XGBoost 2.2 if not specified.\"\n",
      "\n",
      "2024/09/13 10:50:03 WARNING mlflow.utils.autologging_utils: MLflow autologging encountered a warning: \"/home/adi/miniconda3/envs/mlops/lib/python3.10/site-packages/_distutils_hack/__init__.py:16: UserWarning: Distutils was imported before Setuptools, but importing Setuptools also replaces the `distutils` module in `sys.modules`. This may lead to undesirable behaviors or errors. To avoid these issues, avoid using distutils directly, ensure that setuptools is installed in the traditional way (e.g. not an editable install), and/or make sure that setuptools is always imported before distutils.\"\n",
      "\n",
      "2024/09/13 10:50:03 WARNING mlflow.utils.autologging_utils: MLflow autologging encountered a warning: \"/home/adi/miniconda3/envs/mlops/lib/python3.10/site-packages/_distutils_hack/__init__.py:31: UserWarning: Setuptools is replacing distutils. Support for replacing an already imported distutils is deprecated. In the future, this condition will fail. Register concerns at https://github.com/pypa/setuptools/issues/new?template=distutils-deprecation.yml\"\n",
      "\n"
     ]
    },
    {
     "name": "stdout",
     "output_type": "stream",
     "text": [
      "100%|██████████| 2/2 [00:03<00:00,  1.93s/trial, best loss: 1.445730191505302]\n"
     ]
    }
   ],
   "source": [
    "# optimize\n",
    "search_space = {\n",
    "    \"learning_rate\": hp.loguniform(\"learning_rate\", -7, 10),\n",
    "    \"max_depth\": scope.int(hp.quniform(\"max_depth\", 0, 100, 1)),\n",
    "    \"min_child_weight\": hp.loguniform(\"min_child_weight\", -1, 4.6),\n",
    "    \"reg_alpha\": hp.loguniform(\"reg_alpha\", -5, 4.6), \n",
    "    \"scale_pos_weight\": hp.loguniform(\"scale_pos_weight\", 0, 4.6),\n",
    "    \"objective\": \"binary:logistic\",\n",
    "    \"seed\": 99\n",
    "}\n",
    "\n",
    "best_result = fmin(\n",
    "    fn=lambda search_space: supports.objective(\n",
    "        search_space=search_space,\n",
    "        xtrain=xtrain,\n",
    "        xtest=xtest,\n",
    "        ytrain=ytrain,\n",
    "        ytest=ytest,\n",
    "        num_boost_round=CONFIG[\"booster_rounds\"]\n",
    "        ),\n",
    "    space=search_space,\n",
    "    algo=tpe.suggest,\n",
    "    max_evals=CONFIG[\"mlflow_evals_nbr\"],\n",
    "    trials=Trials()\n",
    "    )"
   ]
  },
  {
   "cell_type": "code",
   "execution_count": 7,
   "metadata": {},
   "outputs": [
    {
     "name": "stdout",
     "output_type": "stream",
     "text": [
      "[0]\ttest-logloss:1.41819\n",
      "[1]\ttest-logloss:1.42121\n",
      "[2]\ttest-logloss:1.42426\n",
      "[3]\ttest-logloss:1.42731\n",
      "[4]\ttest-logloss:1.43037\n",
      "[5]\ttest-logloss:1.43344\n",
      "[6]\ttest-logloss:1.43648\n",
      "[7]\ttest-logloss:1.43957\n",
      "[8]\ttest-logloss:1.44263\n",
      "[9]\ttest-logloss:1.44573\n"
     ]
    },
    {
     "name": "stderr",
     "output_type": "stream",
     "text": [
      "2024/09/13 10:50:04 WARNING mlflow.xgboost: Failed to infer model signature: training data did not have the following fields: birth_country=0, birth_country=1, birth_country_father=0, birth_country_father=1, birth_country_mother=0, birth_country_mother=1, chief_earner=1, chief_earner=2, children_number, citizenship=1, citizenship=2, country=104, country=124, country=152, country=156, country=158, country=170, country=196, country=20, country=203, country=218, country=231, country=276, country=300, country=32, country=320, country=344, country=36, country=360, country=364, country=368, country=392, country=398, country=400, country=404, country=410, country=417, country=422, country=434, country=446, country=458, country=462, country=484, country=496, country=50, country=504, country=51, country=528, country=554, country=558, country=566, country=586, country=604, country=608, country=630, country=642, country=643, country=68, country=688, country=702, country=703, country=704, country=716, country=76, country=762, country=764, country=788, country=792, country=804, country=818, country=826, country=840, country=858, country=862, country=909, education, education_mother, education_spouse, employment=1, employment=2, employment=3, employment=4, employment=5, employment=6, employment=7, employment_sector=0, employment_sector=1, employment_sector=2, employment_sector=3, employment_spouse=0, employment_spouse=1, employment_spouse=2, employment_spouse=3, employment_spouse=4, employment_spouse=5, employment_spouse=6, employment_spouse=7, employment_spouse=8, generation, household_size, immigrant=1, immigrant=2, immigrant_father=1, immigrant_father=2, immigrant_mother=1, immigrant_mother=2, income_scale, intprivacy=1, intprivacy=2, lives_with_parents=1, lives_with_parents=2, lives_with_parents=3, lives_with_parents=4, marital_status=1, marital_status=2, marital_status=3, marital_status=4, marital_status=5, marital_status=6, mode=1, mode=2, mode=3, mode=4, mode=5, mode=6, profession=1, profession=10, profession=11, profession=12, profession=2, profession=3, profession=4, profession=5, profession=6, profession=7, profession=8, profession=9, profession_father=1, profession_father=10, profession_father=11, profession_father=12, profession_father=2, profession_father=3, profession_father=4, profession_father=5, profession_father=6, profession_father=7, profession_father=8, profession_father=9, profession_spouse=0, profession_spouse=1, profession_spouse=10, profession_spouse=11, profession_spouse=12, profession_spouse=2, profession_spouse=3, profession_spouse=4, profession_spouse=5, profession_spouse=6, profession_spouse=7, profession_spouse=8, profession_spouse=9, religion=1, religion=10, religion=2, religion=3, religion=4, religion=5, religion=6, religion=7, religion=8, religion=9, respint, savings=1, savings=2, savings=3, savings=4, settlement=1, settlement=2, settlement=3, settlement=4, settlement=5, sex=1, sex=2, subjective_social_class\n",
      "2024/09/13 10:50:04 WARNING mlflow.utils.autologging_utils: MLflow autologging encountered a warning: \"/home/adi/miniconda3/envs/mlops/lib/python3.10/site-packages/xgboost/core.py:160: UserWarning: [10:50:04] WARNING: /workspace/src/c_api/c_api.cc:1240: Saving into deprecated binary model format, please consider using `json` or `ubj`. Model format will default to JSON in XGBoost 2.2 if not specified.\"\n",
      "2024/09/13 10:50:04 WARNING mlflow.utils.autologging_utils: MLflow autologging encountered a warning: \"/home/adi/miniconda3/envs/mlops/lib/python3.10/site-packages/_distutils_hack/__init__.py:16: UserWarning: Distutils was imported before Setuptools, but importing Setuptools also replaces the `distutils` module in `sys.modules`. This may lead to undesirable behaviors or errors. To avoid these issues, avoid using distutils directly, ensure that setuptools is installed in the traditional way (e.g. not an editable install), and/or make sure that setuptools is always imported before distutils.\"\n",
      "2024/09/13 10:50:04 WARNING mlflow.utils.autologging_utils: MLflow autologging encountered a warning: \"/home/adi/miniconda3/envs/mlops/lib/python3.10/site-packages/_distutils_hack/__init__.py:31: UserWarning: Setuptools is replacing distutils. Support for replacing an already imported distutils is deprecated. In the future, this condition will fail. Register concerns at https://github.com/pypa/setuptools/issues/new?template=distutils-deprecation.yml\"\n"
     ]
    }
   ],
   "source": [
    "# save best model from prod run\n",
    "if MODE != \"test\":\n",
    "    # define tag names (model & author) \n",
    "    model_prefix = \"poleng\"\n",
    "    model_algo = \"xgb\"\n",
    "    # yymmddhhmmss\n",
    "    model_creation_time = datetime.now().strftime(\"%y%m%d%H%M%S\")\n",
    "    model_name = f\"{model_prefix}_{model_algo}_{model_creation_time}\"\n",
    "    author = \"andrei lupascu\"\n",
    "    tags = {\n",
    "            \"model\": model_name,\n",
    "            \"author\": author\n",
    "    }\n",
    "    # update best_result\n",
    "    best_result[\"objective\"] = search_space[\"objective\"]\n",
    "    best_result[\"seed\"] = search_space[\"seed\"]\n",
    "    # format best results (some params need to be cast as int)\n",
    "    int_params = [\"max_depth\"]\n",
    "    for int_param in int_params:\n",
    "        best_result[int_param] = int(best_result[int_param])\n",
    "\n",
    "    with mlflow.start_run():\n",
    "            mlflow.set_tags(tags)\n",
    "\n",
    "            # train model\n",
    "            booster = xgb.train(\n",
    "            params=best_result,\n",
    "            dtrain=xtrain,\n",
    "            num_boost_round=CONFIG[\"booster_rounds\"],\n",
    "            evals=[(xtest, \"test\")],\n",
    "            early_stopping_rounds=50\n",
    "            )\n",
    "\n",
    "            # predict\n",
    "            ypred = booster.predict(xtest)\n",
    "            lg_loss = log_loss(ytest, ypred)\n",
    "\n",
    "            # log artifacts and metrics \n",
    "            with open(\"./mlflow/preprocessor.bin\", \"wb\") as fout:\n",
    "                    pickle.dump(dv, fout)\n",
    "            mlflow.log_artifact(\"./mlflow/preprocessor.bin\", artifact_path=\"preprocessor\")\n",
    "            mlflow.log_metric(\"test_log_loss\", lg_loss)"
   ]
  },
  {
   "cell_type": "code",
   "execution_count": null,
   "metadata": {},
   "outputs": [],
   "source": []
  }
 ],
 "metadata": {
  "kernelspec": {
   "display_name": "mlops",
   "language": "python",
   "name": "python3"
  },
  "language_info": {
   "codemirror_mode": {
    "name": "ipython",
    "version": 3
   },
   "file_extension": ".py",
   "mimetype": "text/x-python",
   "name": "python",
   "nbconvert_exporter": "python",
   "pygments_lexer": "ipython3",
   "version": "3.10.14"
  }
 },
 "nbformat": 4,
 "nbformat_minor": 2
}
