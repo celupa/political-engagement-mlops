{
 "cells": [
  {
   "cell_type": "code",
   "execution_count": 1,
   "metadata": {},
   "outputs": [],
   "source": [
    "import sys\n",
    "import os\n",
    "from datetime import datetime \n",
    "\n",
    "import pandas as pd\n",
    "from sklearn.model_selection import train_test_split \n",
    "from sklearn.feature_extraction import DictVectorizer \n",
    "import xgboost as xgb\n",
    "from hyperopt import fmin, hp, tpe, Trials\n",
    "from hyperopt.pyll import scope\n",
    "\n",
    "import mlflow\n",
    "\n",
    "from misc import init, supports"
   ]
  },
  {
   "cell_type": "code",
   "execution_count": 2,
   "metadata": {},
   "outputs": [],
   "source": [
    "# initialize configuration\n",
    "CONFIG = init.init_config(\"test\")"
   ]
  },
  {
   "cell_type": "code",
   "execution_count": 3,
   "metadata": {},
   "outputs": [],
   "source": [
    "# read data\n",
    "data = pd.read_parquet(\"data/custom_wvs7_data.parquet\")"
   ]
  },
  {
   "cell_type": "code",
   "execution_count": 4,
   "metadata": {},
   "outputs": [],
   "source": [
    "# setup training context\n",
    "# get datasets\n",
    "xtrain, xtest = train_test_split(data, test_size=0.2, random_state=99)\n",
    "\n",
    "# get targets\n",
    "ytrain = xtrain[\"political_engagement\"].values\n",
    "ytest = xtest[\"political_engagement\"].values\n",
    "xtrain.drop(columns=[\"political_engagement\"], inplace=True)\n",
    "xtest.drop(columns=[\"political_engagement\"], inplace=True)\n",
    "\n",
    "# vectorize\n",
    "dv = DictVectorizer(sparse=False)\n",
    "train_dict = xtrain.to_dict(orient=\"records\")\n",
    "test_dict = xtest.to_dict(orient=\"records\")\n",
    "xtrain = dv.fit_transform(train_dict)\n",
    "xtest = dv.transform(test_dict)\n",
    "feature_names = dv.get_feature_names_out().tolist()\n",
    "\n",
    "# get dmatrix\n",
    "xtrain = xgb.DMatrix(xtrain, label=ytrain, feature_names=feature_names)\n",
    "xtest = xgb.DMatrix(xtest, label=ytest, feature_names=feature_names)"
   ]
  },
  {
   "cell_type": "code",
   "execution_count": 5,
   "metadata": {},
   "outputs": [
    {
     "data": {
      "text/plain": [
       "<Experiment: artifact_location='/home/adi/projects/political-engagement-mlops/mlruns/1', creation_time=1726041395995, experiment_id='1', last_update_time=1726041395995, lifecycle_stage='active', name='political_engagement', tags={}>"
      ]
     },
     "execution_count": 5,
     "metadata": {},
     "output_type": "execute_result"
    }
   ],
   "source": [
    "# # launch mlflow\n",
    "# mlflow ui --backend-store-uri sqlite:///mlflow/mlflow.db --default-artifact-root mlflow\n",
    "mlflow.set_tracking_uri(\"sqlite:///mlflow/mlflow.db\")\n",
    "mlflow.set_experiment(\"political_engagement\")"
   ]
  },
  {
   "cell_type": "code",
   "execution_count": 6,
   "metadata": {},
   "outputs": [
    {
     "name": "stdout",
     "output_type": "stream",
     "text": [
      "[0]\ttest-logloss:10.02434                            \n",
      "[1]\ttest-logloss:24.71964                            \n",
      "[2]\ttest-logloss:13.60072                            \n",
      "[3]\ttest-logloss:13.60072                            \n",
      "[4]\ttest-logloss:13.60072                            \n",
      "[5]\ttest-logloss:13.60072                            \n",
      "[6]\ttest-logloss:13.60072                            \n",
      "[7]\ttest-logloss:13.60072                            \n",
      "[8]\ttest-logloss:13.60072                            \n",
      "[9]\ttest-logloss:13.60072                            \n",
      "[0]\ttest-logloss:1.42089                                                      \n",
      "[1]\ttest-logloss:1.42104                                                      \n",
      "[2]\ttest-logloss:1.42119                                                      \n",
      "[3]\ttest-logloss:1.42134                                                      \n",
      "[4]\ttest-logloss:1.42149                                                      \n",
      "[5]\ttest-logloss:1.42164                                                      \n",
      "[6]\ttest-logloss:1.42179                                                      \n",
      "[7]\ttest-logloss:1.42195                                                      \n",
      "[8]\ttest-logloss:1.42209                                                      \n",
      "[9]\ttest-logloss:1.42224                                                      \n",
      "100%|██████████| 2/2 [00:03<00:00,  1.78s/trial, best loss: 1.422241406109741]\n"
     ]
    }
   ],
   "source": [
    "# optimize\n",
    "search_space = {\n",
    "    \"learning_rate\": hp.loguniform(\"learning_rate\", -7, 10),\n",
    "    \"max_depth\": scope.int(hp.quniform(\"max_depth\", 0, 100, 1)),\n",
    "    \"min_child_weight\": hp.loguniform(\"min_child_weight\", -1, 4.6),\n",
    "    \"reg_alpha\": hp.loguniform(\"reg_alpha\", -5, 4.6), \n",
    "    \"scale_pos_weight\": hp.loguniform(\"scale_pos_weight\", 0, 4.6),\n",
    "    \"objective\": \"binary:logistic\",\n",
    "    \"seed\": 99\n",
    "}\n",
    "\n",
    "best_result = fmin(\n",
    "    fn=lambda search_space: supports.objective(\n",
    "        search_space=search_space,\n",
    "        xtrain=xtrain,\n",
    "        xtest=xtest,\n",
    "        ytrain=ytrain,\n",
    "        ytest=ytest,\n",
    "        num_boost_round=CONFIG[\"booster_rounds\"]\n",
    "        ),\n",
    "    space=search_space,\n",
    "    algo=tpe.suggest,\n",
    "    max_evals=CONFIG[\"mlflow_evals_nbr\"],\n",
    "    trials=Trials()\n",
    "    )"
   ]
  },
  {
   "cell_type": "code",
   "execution_count": 7,
   "metadata": {},
   "outputs": [
    {
     "data": {
      "text/plain": [
       "{'learning_rate': 0.0010144234001515549,\n",
       " 'max_depth': 12.0,\n",
       " 'min_child_weight': 49.5267484327753,\n",
       " 'reg_alpha': 6.446805946939381,\n",
       " 'scale_pos_weight': 96.11613426220492}"
      ]
     },
     "execution_count": 7,
     "metadata": {},
     "output_type": "execute_result"
    }
   ],
   "source": [
    "best_result"
   ]
  },
  {
   "cell_type": "code",
   "execution_count": null,
   "metadata": {},
   "outputs": [],
   "source": []
  }
 ],
 "metadata": {
  "kernelspec": {
   "display_name": "mlops",
   "language": "python",
   "name": "python3"
  },
  "language_info": {
   "codemirror_mode": {
    "name": "ipython",
    "version": 3
   },
   "file_extension": ".py",
   "mimetype": "text/x-python",
   "name": "python",
   "nbconvert_exporter": "python",
   "pygments_lexer": "ipython3",
   "version": "3.10.14"
  }
 },
 "nbformat": 4,
 "nbformat_minor": 2
}
